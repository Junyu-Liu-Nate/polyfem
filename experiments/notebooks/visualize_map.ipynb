{
 "cells": [
  {
   "cell_type": "code",
   "execution_count": 1,
   "metadata": {},
   "outputs": [],
   "source": [
    "import os\n",
    "import h5py"
   ]
  },
  {
   "cell_type": "code",
   "execution_count": 2,
   "metadata": {},
   "outputs": [],
   "source": [
    "map_foldername = '2d-quad'\n",
    "map_folder = os.path.join('/Users/liujunyu/Desktop/Research/UVic_NYU/IGA_IPC/code/polyfem/experiments/mesh/iga-ipc', map_foldername)\n",
    "map_filename = '2d-quad-map.hdf5'\n",
    "map_filepath = os.path.join(map_folder, map_filename)\n",
    "\n",
    "reference_map_filename = 'triangle_ref1-P2.hdf5'\n",
    "reference_map_folder = '/Users/liujunyu/Desktop/Research/UVic_NYU/IGA_IPC/code/polyfem/experiments/high-order-ipc-data/weights/higher_order'\n",
    "reference_map_filepath = os.path.join(reference_map_folder, reference_map_filename)"
   ]
  },
  {
   "cell_type": "markdown",
   "metadata": {},
   "source": [
    "printed based on:\n",
    "\n",
    "```Attributes of /: {}\n",
    "Attributes of //ordered_edges: {}\n",
    "Attributes of //ordered_faces: {}\n",
    "Attributes of //weight_triplets: {'shape': array([54, 15])}\n",
    "Attributes of //weight_triplets/cols: {}\n",
    "Attributes of //weight_triplets/rows: {}\n",
    "Attributes of //weight_triplets/values: {}```"
   ]
  },
  {
   "cell_type": "code",
   "execution_count": 12,
   "metadata": {},
   "outputs": [
    {
     "name": "stdout",
     "output_type": "stream",
     "text": [
      "/ordered_edges:\n",
      "[[0 1]\n",
      " [1 2]\n",
      " [2 3]\n",
      " [3 1]]\n",
      "\n",
      "/ordered_faces:\n",
      "[[0 1 2 3]]\n",
      "\n",
      "Error reading /weight_triplets: Accessing a group is done with bytes or str, not <class 'slice'>\n",
      "\n",
      "/weight_triplets/cols:\n",
      "[0 2 1 3]\n",
      "\n",
      "/weight_triplets/rows:\n",
      "[0 1 2 3]\n",
      "\n",
      "/weight_triplets/values:\n",
      "[1. 1. 1. 1.]\n",
      "\n",
      "Shape of weight_triplets:\n",
      "[4 4]\n"
     ]
    }
   ],
   "source": [
    "import h5py\n",
    "import numpy as np\n",
    "\n",
    "def print_dataset(f, name):\n",
    "    try:\n",
    "        data = f[name][:]\n",
    "        print(f\"{name}:\")\n",
    "        if isinstance(data, np.ndarray) and data.size > 100:\n",
    "            print(f\"Shape: {data.shape}\")\n",
    "            print(\"First few elements:\")\n",
    "            print(data.flatten()[:100])  # Print first 100 elements\n",
    "        else:\n",
    "            print(data)\n",
    "        print()\n",
    "    except Exception as e:\n",
    "        print(f\"Error reading {name}: {str(e)}\")\n",
    "        print()\n",
    "\n",
    "# Open the HDF5 file\n",
    "with h5py.File(map_filepath, 'r') as f:\n",
    "    print_dataset(f, '/ordered_edges')\n",
    "    print_dataset(f, '/ordered_faces')\n",
    "    print_dataset(f, '/weight_triplets')\n",
    "    print_dataset(f, '/weight_triplets/cols')\n",
    "    print_dataset(f, '/weight_triplets/rows')\n",
    "    print_dataset(f, '/weight_triplets/values')\n",
    "\n",
    "    # Print the shape attribute of weight_triplets\n",
    "    print(\"Shape of weight_triplets:\")\n",
    "    print(f['/weight_triplets'].attrs['shape'])"
   ]
  }
 ],
 "metadata": {
  "kernelspec": {
   "display_name": "IGA-IPC",
   "language": "python",
   "name": "python3"
  },
  "language_info": {
   "codemirror_mode": {
    "name": "ipython",
    "version": 3
   },
   "file_extension": ".py",
   "mimetype": "text/x-python",
   "name": "python",
   "nbconvert_exporter": "python",
   "pygments_lexer": "ipython3",
   "version": "3.9.19"
  }
 },
 "nbformat": 4,
 "nbformat_minor": 2
}
