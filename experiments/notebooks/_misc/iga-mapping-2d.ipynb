{
 "cells": [
  {
   "cell_type": "markdown",
   "metadata": {},
   "source": [
    "# IGA Upsample Mapping for 2D cases"
   ]
  },
  {
   "cell_type": "code",
   "execution_count": 2,
   "metadata": {},
   "outputs": [],
   "source": [
    "import numpy as np\n",
    "import matplotlib.pyplot as plt\n",
    "import matplotlib.tri as mtri\n",
    "import h5py\n",
    "import scipy.sparse as sp"
   ]
  },
  {
   "cell_type": "markdown",
   "metadata": {},
   "source": [
    "#### 1. Define the Reference Square and Target Quadrilateral\n",
    "   \n",
    "   This will involve specifying the points of the unit square and their parametric coordinates.\n",
    "   \n",
    "   Input the coordinates of the quadrilateral to which you will map the unit square."
   ]
  },
  {
   "cell_type": "code",
   "execution_count": 3,
   "metadata": {},
   "outputs": [],
   "source": [
    "# Define the reference square and the target quadrilateral vertices\n",
    "ref_square = np.array([[0, 0], [1, 0], [1, 1], [0, 1]])\n",
    "quad_vertices = np.array([[1, 1], [3, 2], [2, 4], [0, 3]])  # Example vertices"
   ]
  },
  {
   "cell_type": "code",
   "execution_count": 4,
   "metadata": {},
   "outputs": [
    {
     "data": {
      "image/png": "[encoded data removed]",
      "text/plain": [
       "<Figure size 640x480 with 1 Axes>"
      ]
     },
     "metadata": {},
     "output_type": "display_data"
    },
    {
     "data": {
      "image/png": "[encoded data removed]",
      "text/plain": [
       "<Figure size 640x480 with 1 Axes>"
      ]
     },
     "metadata": {},
     "output_type": "display_data"
    }
   ],
   "source": [
    "\n",
    "# Function to plot quadrilaterals\n",
    "def plot_quad(vertices, title='Quadrilateral'):\n",
    "    fig, ax = plt.subplots()\n",
    "    quad = np.vstack([vertices, vertices[0]])  # Close the loop\n",
    "    ax.plot(quad[:, 0], quad[:, 1], 'r-')\n",
    "    ax.set_xlim([-1, 5])\n",
    "    ax.set_ylim([-1, 5])\n",
    "    ax.set_aspect('equal')\n",
    "    ax.scatter(vertices[:, 0], vertices[:, 1], color='blue')\n",
    "    for i, txt in enumerate(['v1', 'v2', 'v3', 'v4']):\n",
    "        ax.annotate(txt, (vertices[i, 0], vertices[i, 1]))\n",
    "    plt.title(title)\n",
    "    plt.grid(True)\n",
    "    plt.show()\n",
    "\n",
    "plot_quad(ref_square, 'Reference Square')\n",
    "plot_quad(quad_vertices, 'Target Quadrilateral')"
   ]
  },
  {
   "cell_type": "markdown",
   "metadata": {},
   "source": [
    "#### 3. Define the Quadratic B-spline Basis Functions"
   ]
  },
  {
   "cell_type": "code",
   "execution_count": 7,
   "metadata": {},
   "outputs": [],
   "source": [
    "# def B_spline_basis(t, degree, i, knots):\n",
    "#     \"\"\"Recursive definition of B-spline basis function of given degree.\"\"\"\n",
    "#     if degree == 0:\n",
    "#         return 1.0 if knots[i] <= t < knots[i+1] else 0.0\n",
    "#     else:\n",
    "#         coef1 = (t - knots[i]) / (knots[i+degree] - knots[i]) if knots[i+degree] != knots[i] else 0\n",
    "#         coef2 = (knots[i+degree+1] - t) / (knots[i+degree+1] - knots[i+1]) if knots[i+degree+1] != knots[i+1] else 0\n",
    "#         return coef1 * B_spline_basis(t, degree-1, i, knots) + coef2 * B_spline_basis(t, degree-1, i+1, knots)\n",
    "\n",
    "# def tensor_product_basis_2D(x, y, degree, knots):\n",
    "#     \"\"\"Compute the tensor product of 1D B-spline basis functions for 2D.\"\"\"\n",
    "#     basis_x = B_spline_basis(x, degree, 1, knots)\n",
    "#     basis_y = B_spline_basis(y, degree, 1, knots)\n",
    "#     return basis_x * basis_y\n",
    "\n",
    "# # Define knots for linear and quadratic B-splines for a unit square\n",
    "# degree = 2  # Change to 1 for linear basis\n",
    "# knots = [0, 0, 0, 1, 1, 1]  # Clamped knots for quadratic B-splines"
   ]
  },
  {
   "cell_type": "code",
   "execution_count": 5,
   "metadata": {},
   "outputs": [],
   "source": [
    "# Define linear B-spline basis functions\n",
    "def L_0(u): return 1 - u\n",
    "def L_1(u): return u\n",
    "\n",
    "def tensor_product_linear_b_spline(u, v):\n",
    "    \"\"\" Compute the tensor product of 1D linear B-spline basis functions for 2D space. \"\"\"\n",
    "    basis_functions_1d_u = [L_0(u), L_1(u)]\n",
    "    basis_functions_1d_v = [L_0(v), L_1(v)]\n",
    "    \n",
    "    basis_functions_2d = {}\n",
    "    for I, fu in enumerate(basis_functions_1d_u):\n",
    "        for J, fv in enumerate(basis_functions_1d_v):\n",
    "            basis_functions_2d[(I, J)] = fu * fv  # Multiplying basis functions in u and v direction\n",
    "\n",
    "    return basis_functions_2d"
   ]
  },
  {
   "cell_type": "code",
   "execution_count": 7,
   "metadata": {},
   "outputs": [
    {
     "name": "stdout",
     "output_type": "stream",
     "text": [
      "{(0, 0): 0.25, (0, 1): 0.25, (1, 0): 0.25, (1, 1): 0.25}\n"
     ]
    }
   ],
   "source": [
    "print(tensor_product_linear_b_spline(0.5, 0.5))"
   ]
  },
  {
   "cell_type": "code",
   "execution_count": 6,
   "metadata": {},
   "outputs": [],
   "source": [
    "# Define quadratic B-spline basis functions\n",
    "def B_0(u): return (1-u)**2\n",
    "def B_1(u): return 2*u*(1-u)\n",
    "def B_2(u): return u**2\n",
    "\n",
    "def tensor_product_b_spline(u, v):\n",
    "    \"\"\" Compute the tensor product of 1D B-spline basis functions for 2D space. \"\"\"\n",
    "    basis_functions_1d_u = [B_0(u), B_1(u), B_2(u)]\n",
    "    basis_functions_1d_v = [B_0(v), B_1(v), B_2(v)]\n",
    "    \n",
    "    basis_functions_2d = {}\n",
    "    for i, fu in enumerate(basis_functions_1d_u):\n",
    "        for j, fv in enumerate(basis_functions_1d_v):\n",
    "            basis_functions_2d[(i, j)] = fu * fv  # Multiplying basis functions in u and v direction\n",
    "\n",
    "    return basis_functions_2d"
   ]
  },
  {
   "cell_type": "code",
   "execution_count": 5,
   "metadata": {},
   "outputs": [],
   "source": [
    "# # Example usage of basis functions\n",
    "# u = 0.5\n",
    "# print(\"B_0 at 0.5:\", B_0(u))\n",
    "# print(\"B_1 at 0.5:\", B_1(u))\n",
    "# print(\"B_2 at 0.5:\", B_2(u))"
   ]
  },
  {
   "cell_type": "code",
   "execution_count": 7,
   "metadata": {},
   "outputs": [],
   "source": [
    "# # Abandoned!\n",
    "# Bilinear interpolation for transformation\n",
    "def bilinear_interp(xi, eta, vertices):\n",
    "    x = (1-xi)*(1-eta)*vertices[0][0] + xi*(1-eta)*vertices[1][0] + xi*eta*vertices[2][0] + (1-xi)*eta*vertices[3][0]\n",
    "    y = (1-xi)*(1-eta)*vertices[0][1] + xi*(1-eta)*vertices[1][1] + xi*eta*vertices[2][1] + (1-xi)*eta*vertices[3][1]\n",
    "    return np.array([x, y])"
   ]
  },
  {
   "cell_type": "markdown",
   "metadata": {},
   "source": [
    "#### 4. Upsample the Reference Square"
   ]
  },
  {
   "cell_type": "code",
   "execution_count": 11,
   "metadata": {},
   "outputs": [
    {
     "name": "stdout",
     "output_type": "stream",
     "text": [
      "[0. 1. 0. 1.]\n"
     ]
    }
   ],
   "source": [
    "# Generate a grid of points in the reference square (upsampling)\n",
    "num_points_per_side = 2  # Number of points per side\n",
    "xi = np.linspace(0, 1, num_points_per_side)\n",
    "eta = np.linspace(0, 1, num_points_per_side)\n",
    "\n",
    "xi_grid, eta_grid = np.meshgrid(xi, eta)\n",
    "xi_flat = xi_grid.flatten()\n",
    "eta_flat = eta_grid.flatten()\n",
    "\n",
    "vertices = np.column_stack((xi_flat, eta_flat)) # Upsampled vertices on the reference shape\n",
    "transformed_points = np.array([bilinear_interp(x, y, quad_vertices) for x, y in zip(xi_flat, eta_flat)]) # Upsampled vertices on the target shape\n",
    "\n",
    "print(xi_flat)"
   ]
  },
  {
   "cell_type": "code",
   "execution_count": 10,
   "metadata": {},
   "outputs": [],
   "source": [
    "# Define the triangles and edges for a structured grid\n",
    "faces = []\n",
    "edges = set()  # To avoid duplicates\n",
    "\n",
    "for i in range(num_points_per_side - 1):\n",
    "    for j in range(num_points_per_side - 1):\n",
    "        bottom_left = i * num_points_per_side + j\n",
    "        bottom_right = bottom_left + 1\n",
    "        top_left = bottom_left + num_points_per_side\n",
    "        top_right = top_left + 1\n",
    "        \n",
    "        # Define two triangles for each square\n",
    "        faces.append([bottom_left, top_left, top_right])\n",
    "        faces.append([bottom_left, top_right, bottom_right])\n",
    "        \n",
    "        # Add edges, ensure each edge is added once\n",
    "        edges.update([\n",
    "            (bottom_left, top_left), (top_left, top_right), (top_right, bottom_left),\n",
    "            (bottom_left, bottom_right), (bottom_right, top_right), (top_right, bottom_left)\n",
    "        ])\n",
    "\n",
    "# Convert edges set to sorted list\n",
    "ordered_edges = np.array(list(edges), dtype=np.int64)\n",
    "ordered_faces = np.array(faces, dtype=np.int64)"
   ]
  },
  {
   "cell_type": "code",
   "execution_count": 11,
   "metadata": {},
   "outputs": [
    {
     "name": "stdout",
     "output_type": "stream",
     "text": [
      "Mesh saved to 2d-quad-upsample.obj\n"
     ]
    }
   ],
   "source": [
    "# Save the upsampled target mesh\n",
    "def save_mesh_as_obj(vertices, faces, filename='mesh.obj'):\n",
    "    \"\"\"\n",
    "    Save a 2D mesh as an OBJ file.\n",
    "    \n",
    "    Parameters:\n",
    "    - vertices: NumPy array of shape (n, 2) for vertex coordinates.\n",
    "    - faces: NumPy array of shape (m, 3) for indices of vertices forming each triangle.\n",
    "    - filename: String, the path where the .obj file will be saved.\n",
    "    \"\"\"\n",
    "    with open(filename, 'w') as file:\n",
    "        # Write vertices\n",
    "        for vertex in vertices:\n",
    "            file.write(f\"v {vertex[0]} {vertex[1]} 0.0\\n\")\n",
    "        \n",
    "        # Write faces\n",
    "        for face in faces:\n",
    "            # OBJ files are 1-indexed\n",
    "            file.write(f\"f {face[0]+1} {face[1]+1} {face[2]+1}\\n\")\n",
    "\n",
    "    print(f\"Mesh saved to {filename}\")\n",
    "\n",
    "filename = '2d-quad-upsample.obj'\n",
    "save_mesh_as_obj(transformed_points, faces, filename)"
   ]
  },
  {
   "cell_type": "code",
   "execution_count": 12,
   "metadata": {},
   "outputs": [
    {
     "name": "stdout",
     "output_type": "stream",
     "text": [
      "Quadrilateral saved to 2d-quad.obj\n"
     ]
    }
   ],
   "source": [
    "# Save the original target mesh\n",
    "def save_quadrilateral_as_obj(vertices, filename='quadrilateral.obj'):\n",
    "    \"\"\"\n",
    "    Save a set of vertices that define a quadrilateral into an OBJ file.\n",
    "\n",
    "    Parameters:\n",
    "    - vertices: NumPy array of shape (4, 2) for vertex coordinates of the quadrilateral.\n",
    "    - filename: String, the path where the .obj file will be saved.\n",
    "    \"\"\"\n",
    "    with open(filename, 'w') as file:\n",
    "        # Write vertices\n",
    "        for vertex in vertices:\n",
    "            # Assume z = 0 since vertices are 2D\n",
    "            file.write(f\"v {vertex[0]} {vertex[1]} 0.0\\n\")\n",
    "        \n",
    "        # Write face\n",
    "        # OBJ file indices start at 1 and since it's a quadrilateral, we connect four vertices\n",
    "        file.write(\"f 1 2 3 4\\n\")\n",
    "\n",
    "    print(f\"Quadrilateral saved to {filename}\")\n",
    "\n",
    "ori_filename = '2d-quad.obj'\n",
    "save_quadrilateral_as_obj(quad_vertices, ori_filename)"
   ]
  },
  {
   "cell_type": "code",
   "execution_count": 13,
   "metadata": {},
   "outputs": [
    {
     "data": {
      "image/png": "[encoded data removed]",
      "text/plain": [
       "<Figure size 640x480 with 1 Axes>"
      ]
     },
     "metadata": {},
     "output_type": "display_data"
    }
   ],
   "source": [
    "# Plot the upsampled target mesh\n",
    "def plot_mesh(vertices, faces):\n",
    "    \"\"\"\n",
    "    Plot a 2D mesh using matplotlib.\n",
    "    \n",
    "    Parameters:\n",
    "    - vertices: NumPy array of shape (n, 2) for vertex coordinates.\n",
    "    - faces: NumPy array of shape (m, 3) for indices of vertices forming each triangle.\n",
    "    \"\"\"\n",
    "    fig, ax = plt.subplots()\n",
    "    tri = mtri.Triangulation(vertices[:, 0], vertices[:, 1], faces)\n",
    "    ax.triplot(tri, 'bo-')\n",
    "    \n",
    "    ax.set_xlabel('X')\n",
    "    ax.set_ylabel('Y')\n",
    "    ax.set_title('2D Mesh Plot')\n",
    "    plt.axis('equal')\n",
    "    plt.grid(True)\n",
    "    plt.show()\n",
    "\n",
    "plot_mesh(transformed_points, faces)"
   ]
  },
  {
   "cell_type": "markdown",
   "metadata": {},
   "source": [
    "#### 5. Map Points from Reference to Quadrilateral\n",
    "\n",
    "Abandoned!\n",
    "\n",
    "Use bilinear interpolation to map points from the reference square to the target quadrilateral based on the control points."
   ]
  },
  {
   "cell_type": "code",
   "execution_count": 12,
   "metadata": {},
   "outputs": [],
   "source": [
    "# Transform each point in the grid to the quadrilateral\n",
    "transformed_points = np.array([bilinear_interp(x, y, quad_vertices) for x, y in zip(xi_flat, eta_flat)])"
   ]
  },
  {
   "cell_type": "code",
   "execution_count": 13,
   "metadata": {},
   "outputs": [
    {
     "data": {
      "image/png": "[encoded data removed]",
      "text/plain": [
       "<Figure size 1200x600 with 2 Axes>"
      ]
     },
     "metadata": {},
     "output_type": "display_data"
    }
   ],
   "source": [
    "# Plotting\n",
    "fig, axs = plt.subplots(1, 2, figsize=(12, 6))\n",
    "\n",
    "# Plot reference square with mesh\n",
    "axs[0].scatter(xi_flat, eta_flat, color='blue')\n",
    "axs[0].set_title('Reference Square with Mesh')\n",
    "axs[0].set_xlim([-0.1, 1.1])\n",
    "axs[0].set_ylim([-0.1, 1.1])\n",
    "axs[0].set_aspect('equal')\n",
    "axs[0].grid(True)\n",
    "\n",
    "# Plot transformed quadrilateral with mesh\n",
    "axs[1].scatter(transformed_points[:, 0], transformed_points[:, 1], color='red')\n",
    "axs[1].set_title('Transformed Quadrilateral with Mesh')\n",
    "axs[1].set_xlim([min(transformed_points[:, 0])-1, max(transformed_points[:, 0])+1])\n",
    "axs[1].set_ylim([min(transformed_points[:, 1])-1, max(transformed_points[:, 1])+1])\n",
    "axs[1].set_aspect('equal')\n",
    "axs[1].grid(True)\n",
    "\n",
    "plt.show()"
   ]
  },
  {
   "cell_type": "markdown",
   "metadata": {},
   "source": [
    "#### 6. Construct W matrix"
   ]
  },
  {
   "cell_type": "code",
   "execution_count": 62,
   "metadata": {},
   "outputs": [
    {
     "name": "stdout",
     "output_type": "stream",
     "text": [
      "(100, 4)\n"
     ]
    }
   ],
   "source": [
    "# # Abandoned!\n",
    "# # Bilinear interpolation function to calculate weights\n",
    "# def bilinear_weights(xi, eta):\n",
    "#     return np.array([\n",
    "#         (1 - xi) * (1 - eta),   # Weight for v1\n",
    "#         xi * (1 - eta),         # Weight for v2\n",
    "#         xi * eta,               # Weight for v3\n",
    "#         (1 - xi) * eta          # Weight for v4\n",
    "#     ])\n",
    "\n",
    "# # Compute weights for each point in the mesh\n",
    "# W = np.array([bilinear_weights(x, y) for x, y in zip(xi_flat, eta_flat)])\n",
    "\n",
    "# print(W.shape)\n",
    "\n",
    "# # Abandonded!\n",
    "# # Visualize the transformation by plotting the reference and target quadrilaterals with mesh points\n",
    "# transformed_points = np.dot(W, quad_vertices)  # Transform points by weights\n",
    "\n",
    "# fig, axs = plt.subplots(1, 2, figsize=(12, 6))\n",
    "\n",
    "# # Plot reference square with mesh\n",
    "# axs[0].scatter(xi_flat, eta_flat, color='blue')\n",
    "# axs[0].set_title('Reference Square with Mesh')\n",
    "# axs[0].set_xlim([-0.1, 1.1])\n",
    "# axs[0].set_ylim([-0.1, 1.1])\n",
    "# axs[0].set_aspect('equal')\n",
    "# axs[0].grid(True)\n",
    "\n",
    "# # Plot transformed quadrilateral with mesh\n",
    "# axs[1].scatter(transformed_points[:, 0], transformed_points[:, 1], color='red')\n",
    "# axs[1].set_title('Transformed Quadrilateral with Mesh')\n",
    "# axs[1].set_xlim([min(transformed_points[:, 0])-1, max(transformed_points[:, 0])+1])\n",
    "# axs[1].set_ylim([min(transformed_points[:, 1])-1, max(transformed_points[:, 1])+1])\n",
    "# axs[1].set_aspect('equal')\n",
    "# axs[1].grid(True)\n",
    "\n",
    "# plt.show()"
   ]
  },
  {
   "cell_type": "code",
   "execution_count": 15,
   "metadata": {},
   "outputs": [
    {
     "name": "stdout",
     "output_type": "stream",
     "text": [
      "(4, 4)\n"
     ]
    }
   ],
   "source": [
    "# Define linear B-spline basis functions\n",
    "def L_0(u): return 1 - u\n",
    "def L_1(u): return u\n",
    "\n",
    "def tensor_product_linear_b_spline(u, v):\n",
    "    \"\"\" Compute the tensor product of 1D linear B-spline basis functions for 2D space. \"\"\"\n",
    "    basis_functions_1d_u = [L_0(u), L_1(u)]\n",
    "    basis_functions_1d_v = [L_0(v), L_1(v)]\n",
    "    \n",
    "    basis_function_values = np.zeros((2, 2))\n",
    "    for i, fu in enumerate(basis_functions_1d_u):\n",
    "        for j, fv in enumerate(basis_functions_1d_v):\n",
    "            basis_function_values[i, j] = fu * fv\n",
    "    \n",
    "    return basis_function_values.flatten()\n",
    "\n",
    "# Now compute weights for each point in the mesh using the new basis function weights\n",
    "W = np.array([tensor_product_linear_b_spline(x, y) for x, y in zip(xi_flat, eta_flat)])\n",
    "\n",
    "print(W.shape)"
   ]
  },
  {
   "cell_type": "code",
   "execution_count": 16,
   "metadata": {},
   "outputs": [
    {
     "name": "stdout",
     "output_type": "stream",
     "text": [
      "[0.25 0.25 0.25 0.25]\n"
     ]
    }
   ],
   "source": [
    "print(tensor_product_linear_b_spline(0.5, 0.5))"
   ]
  },
  {
   "cell_type": "code",
   "execution_count": 11,
   "metadata": {},
   "outputs": [
    {
     "name": "stdout",
     "output_type": "stream",
     "text": [
      "(4, 9)\n"
     ]
    }
   ],
   "source": [
    "### Should use this!!!!!!\n",
    "def tensor_product_b_spline_weights(u, v):\n",
    "    \"\"\" Compute the tensor product of 1D B-spline basis functions for 2D space. \"\"\"\n",
    "    basis_functions_1d_u = [B_0(u), B_1(u), B_2(u)]\n",
    "    basis_functions_1d_v = [B_0(v), B_1(v), B_2(v)]\n",
    "    \n",
    "    weights = np.zeros((3, 3))  # Assuming a 3x3 control point grid for quadratic B-splines\n",
    "    for i in range(3):\n",
    "        for j in range(3):\n",
    "            weights[i, j] = basis_functions_1d_u[i] * basis_functions_1d_v[j]\n",
    "\n",
    "    return weights.flatten()\n",
    "\n",
    "# Now compute weights for each point in the mesh using the new basis function weights\n",
    "W = np.array([tensor_product_b_spline_weights(x, y) for x, y in zip(xi_flat, eta_flat)])\n",
    "\n",
    "print(W.shape)"
   ]
  },
  {
   "cell_type": "code",
   "execution_count": 19,
   "metadata": {},
   "outputs": [
    {
     "name": "stdout",
     "output_type": "stream",
     "text": [
      "Matrix W (first few rows):\n",
      "[[1. 0. 0. 0.]\n",
      " [0. 0. 1. 0.]\n",
      " [0. 1. 0. 0.]\n",
      " [0. 0. 0. 1.]]\n"
     ]
    }
   ],
   "source": [
    "# Print aprt of the weights matrix W for verification\n",
    "print(\"Matrix W (first few rows):\")\n",
    "print(W[:5])"
   ]
  },
  {
   "cell_type": "code",
   "execution_count": 20,
   "metadata": {},
   "outputs": [
    {
     "name": "stdout",
     "output_type": "stream",
     "text": [
      "Data saved successfully in 2d-quad-map.hdf5\n"
     ]
    }
   ],
   "source": [
    "# Save the weights matrix W in a sparse format as .hdf5\n",
    "\n",
    "# Convert W to a sparse matrix in COO format\n",
    "W_sparse = sp.coo_matrix(W)\n",
    "\n",
    "# Extract non-zero entries for saving in sparse format\n",
    "rows = W_sparse.row\n",
    "cols = W_sparse.col\n",
    "values = W_sparse.data\n",
    "\n",
    "map_filename = '2d-quad-map.hdf5'\n",
    "\n",
    "# Save to HDF5\n",
    "with h5py.File(map_filename, 'w') as f:\n",
    "    # Save edges and faces with explicit data types\n",
    "    f.create_dataset('ordered_edges', data=ordered_edges, dtype=np.int64)\n",
    "    f.create_dataset('ordered_faces', data=ordered_faces, dtype=np.int64)\n",
    "    \n",
    "    # Save the weight triplets\n",
    "    weight_group = f.create_group('weight_triplets')\n",
    "    weight_group.attrs['shape'] = np.array(W_sparse.shape)  # Store the shape of the original matrix W\n",
    "    weight_group.create_dataset('cols', data=W_sparse.col, dtype=np.int32)  # Column indices from COO\n",
    "    weight_group.create_dataset('rows', data=W_sparse.row, dtype=np.int32)  # Row indices from COO\n",
    "    weight_group.create_dataset('values', data=W_sparse.data, dtype=np.float64)  # Non-zero values from COO\n",
    "\n",
    "print(f\"Data saved successfully in {map_filename}\")"
   ]
  },
  {
   "cell_type": "code",
   "execution_count": 21,
   "metadata": {},
   "outputs": [
    {
     "name": "stdout",
     "output_type": "stream",
     "text": [
      "Data saved successfully in 2d-quad-map.hdf5\n"
     ]
    }
   ],
   "source": [
    "# Create full indices for every element in W\n",
    "rows, cols = np.indices(W.shape)\n",
    "values = W.flatten()  # Flatten the matrix values to a 1D array\n",
    "\n",
    "# Convert indices to 1D arrays for storage\n",
    "rows = rows.flatten()\n",
    "cols = cols.flatten()\n",
    "\n",
    "with h5py.File(map_filename, 'w') as f:\n",
    "    # Save edges and faces with explicit data types\n",
    "    f.create_dataset('ordered_edges', data=ordered_edges, dtype=np.int64)\n",
    "    f.create_dataset('ordered_faces', data=ordered_faces, dtype=np.int64)\n",
    "    \n",
    "    # Save the weights in the format similar to sparse matrix storage\n",
    "    weight_group = f.create_group('weight_triplets')\n",
    "    weight_group.attrs['shape'] = np.array(W.shape)  # Store the shape of the original matrix W\n",
    "    weight_group.create_dataset('cols', data=cols.astype(np.int32))  # Column indices from W\n",
    "    weight_group.create_dataset('rows', data=rows.astype(np.int32))  # Row indices from W\n",
    "    weight_group.create_dataset('values', data=values, dtype=np.float64)  # Values from W\n",
    "\n",
    "print(f\"Data saved successfully in {map_filename}\")"
   ]
  },
  {
   "cell_type": "code",
   "execution_count": null,
   "metadata": {},
   "outputs": [],
   "source": []
  },
  {
   "cell_type": "markdown",
   "metadata": {},
   "source": [
    "## Try 2"
   ]
  },
  {
   "cell_type": "code",
   "execution_count": 29,
   "metadata": {},
   "outputs": [
    {
     "name": "stdout",
     "output_type": "stream",
     "text": [
      "[0. 0. 1.]\n",
      "[0.  0.5 1. ]\n",
      "[0. 1. 1.]\n",
      "[0.5 0.  1. ]\n",
      "[0.5 0.5 1. ]\n",
      "[0.5 1.  1. ]\n",
      "[1. 0. 1.]\n",
      "[1.  0.5 1. ]\n",
      "[1. 1. 1.]\n",
      "[[0. 0. 0. 0. 0. 0. 0. 0. 0. 0. 0. 0. 0. 0. 0. 0. 0. 0. 0. 0. 0. 0. 0. 0.\n",
      "  0. 0. 0.]\n",
      " [0. 0. 0. 0. 0. 0. 0. 0. 0. 0. 0. 0. 0. 0. 0. 0. 0. 0. 0. 0. 0. 0. 0. 0.\n",
      "  0. 0. 0.]\n",
      " [0. 0. 0. 0. 0. 0. 0. 0. 0. 0. 0. 0. 0. 0. 0. 0. 0. 0. 0. 0. 0. 0. 0. 0.\n",
      "  0. 0. 0.]\n",
      " [0. 0. 0. 0. 0. 0. 0. 0. 0. 0. 0. 0. 0. 0. 0. 0. 0. 0. 0. 0. 0. 0. 0. 0.\n",
      "  0. 0. 0.]\n",
      " [0. 0. 0. 0. 0. 0. 0. 0. 0. 0. 0. 0. 0. 0. 0. 0. 0. 0. 0. 0. 0. 0. 0. 0.\n",
      "  0. 0. 0.]\n",
      " [0. 0. 0. 0. 0. 0. 0. 0. 0. 0. 0. 0. 0. 0. 0. 0. 0. 0. 0. 0. 0. 0. 0. 0.\n",
      "  0. 0. 0.]\n",
      " [0. 0. 0. 0. 0. 0. 0. 0. 0. 0. 0. 0. 0. 0. 0. 0. 0. 0. 0. 0. 0. 0. 0. 0.\n",
      "  0. 0. 0.]\n",
      " [0. 0. 0. 0. 0. 0. 0. 0. 0. 0. 0. 0. 0. 0. 0. 0. 0. 0. 0. 0. 0. 0. 0. 0.\n",
      "  0. 0. 0.]\n",
      " [0. 0. 0. 0. 0. 0. 0. 0. 0. 0. 0. 0. 0. 0. 0. 0. 0. 0. 0. 0. 0. 0. 0. 0.\n",
      "  0. 0. 0.]]\n"
     ]
    }
   ],
   "source": [
    "import numpy as np\n",
    "import matplotlib.pyplot as plt\n",
    "\n",
    "def tensor_product_basis(x, y, z, degree, knots):\n",
    "    \"\"\"Compute the tensor product of 1D B-spline basis functions.\"\"\"\n",
    "    basis_x = B_spline_basis(x, degree, 0, knots)\n",
    "    basis_y = B_spline_basis(y, degree, 0, knots)\n",
    "    basis_z = B_spline_basis(z, degree, 0, knots)\n",
    "    return basis_x * basis_y * basis_z\n",
    "\n",
    "# Define knots and degree for quadratic B-splines\n",
    "degree = 2\n",
    "knots = [0, 0, 0, 1, 1, 1]  # Clamped knots for quadratic B-splines\n",
    "\n",
    "# Sample points on S (top face of the cube)\n",
    "points_on_S = np.array([[x, y, 1.0] for x in np.linspace(0, 1, 3) for y in np.linspace(0, 1, 3)])\n",
    "\n",
    "# Assume 27 quadratic basis functions in 3D (3x3x3 control points)\n",
    "number_of_basis_functions_in_M = 27\n",
    "W = np.zeros((len(points_on_S), number_of_basis_functions_in_M))\n",
    "\n",
    "# Evaluate the basis function at each point on S\n",
    "for j, point in enumerate(points_on_S):\n",
    "    print(point)\n",
    "    for i in range(number_of_basis_functions_in_M):\n",
    "        # We need to map the basis function index to its parametric coordinates\n",
    "        # Here, just an example: simulate the indices mapping if needed\n",
    "        ix, iy, iz = np.unravel_index(i, (3, 3, 3))  # Assuming a simple cubic layout of control points\n",
    "        W[j, i] = tensor_product_basis(point[0], point[1], point[2], degree, knots)\n",
    "\n",
    "print(W)"
   ]
  }
 ],
 "metadata": {
  "kernelspec": {
   "display_name": "IGA-IPC",
   "language": "python",
   "name": "python3"
  },
  "language_info": {
   "codemirror_mode": {
    "name": "ipython",
    "version": 3
   },
   "file_extension": ".py",
   "mimetype": "text/x-python",
   "name": "python",
   "nbconvert_exporter": "python",
   "pygments_lexer": "ipython3",
   "version": "3.9.19"
  }
 },
 "nbformat": 4,
 "nbformat_minor": 2
}
