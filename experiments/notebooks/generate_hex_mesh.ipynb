{
 "cells": [
  {
   "cell_type": "code",
   "execution_count": 2,
   "metadata": {},
   "outputs": [],
   "source": [
    "import numpy as np\n",
    "import meshio\n",
    "import os"
   ]
  },
  {
   "cell_type": "code",
   "execution_count": 13,
   "metadata": {},
   "outputs": [],
   "source": [
    "# def create_hex_mesh(num_cells_per_dim):\n",
    "#     # Define the number of points per dimension\n",
    "#     num_points_per_dim = num_cells_per_dim + 1\n",
    "\n",
    "#     # Create grid points\n",
    "#     x = np.linspace(0, 1, num_points_per_dim)\n",
    "#     y = np.linspace(0, 1, num_points_per_dim)\n",
    "#     z = np.linspace(0, 1, num_points_per_dim)\n",
    "#     points = np.array(np.meshgrid(x, y, z)).T.reshape(-1, 3)\n",
    "\n",
    "#     # Define cells (hexahedra)\n",
    "#     cells = []\n",
    "#     for i in range(num_cells_per_dim):\n",
    "#         for j in range(num_cells_per_dim):\n",
    "#             for k in range(num_cells_per_dim):\n",
    "#                 # Calculate the index of the corner point of the hexahedron\n",
    "#                 n = i * num_points_per_dim**2 + j * num_points_per_dim + k\n",
    "#                 cells.append([\n",
    "#                     n,\n",
    "#                     n + 1,\n",
    "#                     n + num_points_per_dim + 1,\n",
    "#                     n + num_points_per_dim,\n",
    "#                     n + num_points_per_dim**2,\n",
    "#                     n + num_points_per_dim**2 + 1,\n",
    "#                     n + num_points_per_dim**2 + num_points_per_dim + 1,\n",
    "#                     n + num_points_per_dim**2 + num_points_per_dim\n",
    "#                 ])\n",
    "\n",
    "#     # Create the mesh\n",
    "#     cells = [(\"hexahedron\", np.array(cells))]\n",
    "#     mesh = meshio.Mesh(points, cells)\n",
    "\n",
    "#     return mesh\n",
    "\n",
    "def generate_gmsh_hex_mesh(n, save_path):\n",
    "    # Open file for writing\n",
    "    with open(save_path, \"w\") as file:\n",
    "        # Header\n",
    "        file.write(\"$MeshFormat\\n2.2 0 8\\n$EndMeshFormat\\n\")\n",
    "        \n",
    "        # Calculate total number of nodes and hexahedra\n",
    "        num_points_per_dim = n + 1\n",
    "        total_nodes = num_points_per_dim**3\n",
    "        total_elements = n**3\n",
    "\n",
    "        # Nodes section\n",
    "        file.write(\"$Nodes\\n\")\n",
    "        file.write(f\"{total_nodes}\\n\")\n",
    "        node_id = 1\n",
    "        for z in range(num_points_per_dim):\n",
    "            for y in range(num_points_per_dim):\n",
    "                for x in range(num_points_per_dim):\n",
    "                    file.write(f\"{node_id} {x-0.5*n} {y-0.5*n} {z-0.5*n}\\n\")\n",
    "                    node_id += 1\n",
    "        file.write(\"$EndNodes\\n\")\n",
    "\n",
    "        # Elements section\n",
    "        file.write(\"$Elements\\n\")\n",
    "        file.write(f\"{total_elements}\\n\")\n",
    "        element_id = 1\n",
    "        for k in range(n):\n",
    "            for j in range(n):\n",
    "                for i in range(n):\n",
    "                    # Calculate the base index of the first node in this element\n",
    "                    base = 1 + i + j * num_points_per_dim + k * num_points_per_dim**2\n",
    "                    # Nodes in the hexahedron\n",
    "                    nodes = [\n",
    "                        base,\n",
    "                        base + 1,\n",
    "                        base + num_points_per_dim + 1,\n",
    "                        base + num_points_per_dim,\n",
    "                        base + num_points_per_dim**2,\n",
    "                        base + num_points_per_dim**2 + 1,\n",
    "                        base + num_points_per_dim**2 + num_points_per_dim + 1,\n",
    "                        base + num_points_per_dim**2 + num_points_per_dim\n",
    "                    ]\n",
    "                    nodes_str = \" \".join(map(str, nodes))\n",
    "                    file.write(f\"{element_id} 5 2 0 0 {nodes_str}\\n\")\n",
    "                    element_id += 1\n",
    "        file.write(\"$EndElements\\n\")"
   ]
  },
  {
   "cell_type": "code",
   "execution_count": 14,
   "metadata": {},
   "outputs": [
    {
     "name": "stdout",
     "output_type": "stream",
     "text": [
      "Mesh generated and saved to 'hex_mesh.msh'.\n"
     ]
    }
   ],
   "source": [
    "# Generate the mesh\n",
    "# mesh = create_hex_mesh(3)\n",
    "\n",
    "# # Save the mesh to a .msh file\n",
    "mesh_name = \"unit_hex_sub3.msh\"\n",
    "save_path = os.path.join('/Users/liujunyu/Desktop/Research/UVic_NYU/IGA_IPC/code/polyfem/experiments/mesh/iga-ipc/3d-hex', mesh_name)\n",
    "# mesh.write(save_path)\n",
    "\n",
    "# print(\"Mesh generated and saved to 'hex_mesh.msh'.\")\n",
    "\n",
    "# Generate a 3x3x3 hex mesh\n",
    "generate_gmsh_hex_mesh(3, save_path)\n",
    "print(\"Mesh generated and saved to 'hex_mesh.msh'.\")"
   ]
  }
 ],
 "metadata": {
  "kernelspec": {
   "display_name": "IGA-IPC",
   "language": "python",
   "name": "python3"
  },
  "language_info": {
   "codemirror_mode": {
    "name": "ipython",
    "version": 3
   },
   "file_extension": ".py",
   "mimetype": "text/x-python",
   "name": "python",
   "nbconvert_exporter": "python",
   "pygments_lexer": "ipython3",
   "version": "3.9.19"
  }
 },
 "nbformat": 4,
 "nbformat_minor": 2
}
