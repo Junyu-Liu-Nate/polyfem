{
 "cells": [
  {
   "cell_type": "code",
   "execution_count": 1,
   "metadata": {},
   "outputs": [],
   "source": [
    "import numpy as np\n",
    "import os"
   ]
  },
  {
   "cell_type": "code",
   "execution_count": 2,
   "metadata": {},
   "outputs": [],
   "source": [
    "def generate_quad_mesh(vertices, subdivisions):\n",
    "    \"\"\" Generate a finer grid mesh for a quadrilateral defined by 'vertices'.\n",
    "    \n",
    "    Parameters:\n",
    "    vertices (np.array): An array of shape (4,2), representing the four corners of the quad.\n",
    "    subdivisions (int): The number of divisions along each edge.\n",
    "    \n",
    "    Returns:\n",
    "    np.array: The generated mesh vertices.\n",
    "    np.array: The faces of the mesh.\n",
    "    \"\"\"\n",
    "    # Generate points along the edges\n",
    "    edge_01 = np.linspace(vertices[0], vertices[1], subdivisions + 1)\n",
    "    edge_32 = np.linspace(vertices[3], vertices[2], subdivisions + 1)\n",
    "    \n",
    "    vertices_list = []\n",
    "    faces = []\n",
    "    \n",
    "    # Generate vertices\n",
    "    for i in range(subdivisions + 1):\n",
    "        start = edge_01[i]\n",
    "        end = edge_32[i]\n",
    "        verts_between = np.linspace(start, end, subdivisions + 1)\n",
    "        vertices_list.append(verts_between)\n",
    "    \n",
    "    vertices_list = np.vstack(vertices_list)\n",
    "    \n",
    "    # Generate faces\n",
    "    for i in range(subdivisions):\n",
    "        for j in range(subdivisions):\n",
    "            a = i * (subdivisions + 1) + j\n",
    "            b = a + 1\n",
    "            c = (i + 1) * (subdivisions + 1) + j + 1\n",
    "            d = c - 1\n",
    "            faces.append([a + 1, b + 1, c + 1, d + 1])  # OBJ indexing starts at 1\n",
    "    \n",
    "    return vertices_list, np.array(faces)\n",
    "\n",
    "def save_mesh_to_obj(vertices, faces, filename=\"mesh.obj\"):\n",
    "    \"\"\" Save the mesh vertices and faces to a .obj file.\n",
    "    \n",
    "    Parameters:\n",
    "    vertices (np.array): The mesh vertices.\n",
    "    faces (np.array): The mesh faces.\n",
    "    filename (str): The name of the .obj file to save.\n",
    "    \"\"\"\n",
    "    with open(filename, 'w') as file:\n",
    "        file.write(\"# OBJ file\\n\")\n",
    "        for vert in vertices:\n",
    "            file.write(f\"v {vert[0]} {vert[1]} 0.0\\n\")\n",
    "        for face in faces:\n",
    "            face_str = ' '.join(map(str, face))\n",
    "            file.write(f\"f {face_str}\\n\")"
   ]
  },
  {
   "cell_type": "code",
   "execution_count": 3,
   "metadata": {},
   "outputs": [],
   "source": [
    "# Example usage\n",
    "vertices = np.array([[0, 0], [1, 0], [1, 1], [0, 1]])\n",
    "subdivisions = 3\n",
    "mesh_vertices, mesh_faces = generate_quad_mesh(vertices, subdivisions)\n",
    "\n",
    "save_path = os.path.join('../mesh/iga-ipc/2d-quad', '2d-quad-sub' + str(subdivisions) + '.obj')\n",
    "\n",
    "save_mesh_to_obj(mesh_vertices, mesh_faces, filename=save_path)"
   ]
  }
 ],
 "metadata": {
  "kernelspec": {
   "display_name": "IGA-IPC",
   "language": "python",
   "name": "python3"
  },
  "language_info": {
   "codemirror_mode": {
    "name": "ipython",
    "version": 3
   },
   "file_extension": ".py",
   "mimetype": "text/x-python",
   "name": "python",
   "nbconvert_exporter": "python",
   "pygments_lexer": "ipython3",
   "version": "3.9.-1"
  }
 },
 "nbformat": 4,
 "nbformat_minor": 2
}
