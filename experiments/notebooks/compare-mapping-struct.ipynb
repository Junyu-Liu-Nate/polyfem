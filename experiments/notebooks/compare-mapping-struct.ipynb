{
 "cells": [
  {
   "cell_type": "code",
   "execution_count": 2,
   "metadata": {},
   "outputs": [
    {
     "name": "stdout",
     "output_type": "stream",
     "text": [
      "Structure mismatch at /ordered_edges: Different shape or dtype.\n",
      "The files do not have the same structure.\n"
     ]
    }
   ],
   "source": [
    "import h5py\n",
    "\n",
    "def compare_hdf5_structure(file1, file2):\n",
    "    \"\"\"\n",
    "    Compare the structure of two HDF5 files.\n",
    "    \n",
    "    Parameters:\n",
    "        file1 (str): Path to the first HDF5 file.\n",
    "        file2 (str): Path to the second HDF5 file.\n",
    "    \n",
    "    Returns:\n",
    "        bool: True if structures are identical, False otherwise.\n",
    "    \"\"\"\n",
    "    def recurse_compare(group1, group2, path='/'):\n",
    "        if sorted(group1.keys()) != sorted(group2.keys()):\n",
    "            print(f\"Structure mismatch at {path}: Different children.\")\n",
    "            return False\n",
    "        for name in group1:\n",
    "            if type(group1[name]) != type(group2[name]):\n",
    "                print(f\"Structure mismatch at {path}{name}: Different types.\")\n",
    "                return False\n",
    "            if isinstance(group1[name], h5py.Dataset):\n",
    "                if group1[name].shape != group2[name].shape or group1[name].dtype != group2[name].dtype:\n",
    "                    print(f\"Structure mismatch at {path}{name}: Different shape or dtype.\")\n",
    "                    return False\n",
    "            elif isinstance(group1[name], h5py.Group):\n",
    "                if not recurse_compare(group1[name], group2[name], path + name + '/'):\n",
    "                    return False\n",
    "        return True\n",
    "\n",
    "    with h5py.File(file1, 'r') as f1, h5py.File(file2, 'r') as f2:\n",
    "        return recurse_compare(f1, f2)\n",
    "\n",
    "# Check the structure of the two files\n",
    "files_same_structure = compare_hdf5_structure('W_matrix.hdf5', 'triangle_ref1-P2.hdf5')\n",
    "print(\"The files have the same structure:\" if files_same_structure else \"The files do not have the same structure.\")\n"
   ]
  },
  {
   "cell_type": "code",
   "execution_count": 9,
   "metadata": {},
   "outputs": [
    {
     "ename": "ValueError",
     "evalue": "The truth value of an array with more than one element is ambiguous. Use a.any() or a.all()",
     "output_type": "error",
     "traceback": [
      "\u001b[0;31m---------------------------------------------------------------------------\u001b[0m",
      "\u001b[0;31mValueError\u001b[0m                                Traceback (most recent call last)",
      "Cell \u001b[0;32mIn[9], line 40\u001b[0m\n\u001b[1;32m     37\u001b[0m         \u001b[38;5;28;01mreturn\u001b[39;00m recurse_compare(f1, f2)\n\u001b[1;32m     39\u001b[0m \u001b[38;5;66;03m# Check the structure of the two files\u001b[39;00m\n\u001b[0;32m---> 40\u001b[0m files_same_structure \u001b[38;5;241m=\u001b[39m \u001b[43mcompare_hdf5_structure_and_attributes\u001b[49m\u001b[43m(\u001b[49m\u001b[38;5;124;43m'\u001b[39;49m\u001b[38;5;124;43mW_matrix.hdf5\u001b[39;49m\u001b[38;5;124;43m'\u001b[39;49m\u001b[43m,\u001b[49m\u001b[43m \u001b[49m\u001b[38;5;124;43m'\u001b[39;49m\u001b[38;5;124;43mtriangle_ref1-P2.hdf5\u001b[39;49m\u001b[38;5;124;43m'\u001b[39;49m\u001b[43m)\u001b[49m\n\u001b[1;32m     41\u001b[0m \u001b[38;5;28mprint\u001b[39m(\u001b[38;5;124m\"\u001b[39m\u001b[38;5;124mThe files have the same structure and attributes:\u001b[39m\u001b[38;5;124m\"\u001b[39m \u001b[38;5;28;01mif\u001b[39;00m files_same_structure \u001b[38;5;28;01melse\u001b[39;00m \u001b[38;5;124m\"\u001b[39m\u001b[38;5;124mThe files do not have the same structure and attributes.\u001b[39m\u001b[38;5;124m\"\u001b[39m)\n",
      "Cell \u001b[0;32mIn[9], line 37\u001b[0m, in \u001b[0;36mcompare_hdf5_structure_and_attributes\u001b[0;34m(file1, file2)\u001b[0m\n\u001b[1;32m     34\u001b[0m     \u001b[38;5;28;01mreturn\u001b[39;00m \u001b[38;5;28;01mTrue\u001b[39;00m\n\u001b[1;32m     36\u001b[0m \u001b[38;5;28;01mwith\u001b[39;00m h5py\u001b[38;5;241m.\u001b[39mFile(file1, \u001b[38;5;124m'\u001b[39m\u001b[38;5;124mr\u001b[39m\u001b[38;5;124m'\u001b[39m) \u001b[38;5;28;01mas\u001b[39;00m f1, h5py\u001b[38;5;241m.\u001b[39mFile(file2, \u001b[38;5;124m'\u001b[39m\u001b[38;5;124mr\u001b[39m\u001b[38;5;124m'\u001b[39m) \u001b[38;5;28;01mas\u001b[39;00m f2:\n\u001b[0;32m---> 37\u001b[0m     \u001b[38;5;28;01mreturn\u001b[39;00m \u001b[43mrecurse_compare\u001b[49m\u001b[43m(\u001b[49m\u001b[43mf1\u001b[49m\u001b[43m,\u001b[49m\u001b[43m \u001b[49m\u001b[43mf2\u001b[49m\u001b[43m)\u001b[49m\n",
      "Cell \u001b[0;32mIn[9], line 24\u001b[0m, in \u001b[0;36mcompare_hdf5_structure_and_attributes.<locals>.recurse_compare\u001b[0;34m(group1, group2, path)\u001b[0m\n\u001b[1;32m     22\u001b[0m \u001b[38;5;66;03m# Check attributes\u001b[39;00m\n\u001b[1;32m     23\u001b[0m attrs1, attrs2 \u001b[38;5;241m=\u001b[39m group1[name]\u001b[38;5;241m.\u001b[39mattrs\u001b[38;5;241m.\u001b[39mitems(), group2[name]\u001b[38;5;241m.\u001b[39mattrs\u001b[38;5;241m.\u001b[39mitems()\n\u001b[0;32m---> 24\u001b[0m \u001b[38;5;28;01mif\u001b[39;00m \u001b[38;5;28;43msorted\u001b[39;49m\u001b[43m(\u001b[49m\u001b[43mattrs1\u001b[49m\u001b[43m)\u001b[49m\u001b[43m \u001b[49m\u001b[38;5;241;43m!=\u001b[39;49m\u001b[43m \u001b[49m\u001b[38;5;28;43msorted\u001b[39;49m\u001b[43m(\u001b[49m\u001b[43mattrs2\u001b[49m\u001b[43m)\u001b[49m:\n\u001b[1;32m     25\u001b[0m     \u001b[38;5;28mprint\u001b[39m(\u001b[38;5;124mf\u001b[39m\u001b[38;5;124m\"\u001b[39m\u001b[38;5;124mAttribute mismatch at \u001b[39m\u001b[38;5;132;01m{\u001b[39;00mpath\u001b[38;5;132;01m}\u001b[39;00m\u001b[38;5;132;01m{\u001b[39;00mname\u001b[38;5;132;01m}\u001b[39;00m\u001b[38;5;124m: \u001b[39m\u001b[38;5;132;01m{\u001b[39;00mattrs1\u001b[38;5;132;01m}\u001b[39;00m\u001b[38;5;124m != \u001b[39m\u001b[38;5;132;01m{\u001b[39;00mattrs2\u001b[38;5;132;01m}\u001b[39;00m\u001b[38;5;124m\"\u001b[39m)\n\u001b[1;32m     26\u001b[0m     \u001b[38;5;28;01mreturn\u001b[39;00m \u001b[38;5;28;01mFalse\u001b[39;00m\n",
      "\u001b[0;31mValueError\u001b[0m: The truth value of an array with more than one element is ambiguous. Use a.any() or a.all()"
     ]
    }
   ],
   "source": [
    "import h5py\n",
    "\n",
    "def compare_hdf5_structure_and_attributes(file1, file2):\n",
    "    \"\"\"\n",
    "    Compare the structure and attributes of two HDF5 files.\n",
    "    \n",
    "    Parameters:\n",
    "        file1 (str): Path to the first HDF5 file.\n",
    "        file2 (str): Path to the second HDF5 file.\n",
    "    \n",
    "    Returns:\n",
    "        bool: True if structures and attributes are identical, False otherwise.\n",
    "    \"\"\"\n",
    "    def recurse_compare(group1, group2, path='/'):\n",
    "        if sorted(group1.keys()) != sorted(group2.keys()):\n",
    "            print(f\"Structure mismatch at {path}: Different children.\")\n",
    "            return False\n",
    "        for name in group1:\n",
    "            if type(group1[name]) != type(group2[name]):\n",
    "                print(f\"Type mismatch at {path}{name}.\")\n",
    "                return False\n",
    "            # Check attributes\n",
    "            attrs1, attrs2 = group1[name].attrs.items(), group2[name].attrs.items()\n",
    "            if sorted(attrs1) != sorted(attrs2):\n",
    "                print(f\"Attribute mismatch at {path}{name}: {attrs1} != {attrs2}\")\n",
    "                return False\n",
    "            if isinstance(group1[name], h5py.Dataset):\n",
    "                if group1[name].dtype != group2[name].dtype:\n",
    "                    print(f\"Dtype mismatch at {path}{name}.\")\n",
    "                    return False\n",
    "            elif isinstance(group1[name], h5py.Group):\n",
    "                if not recurse_compare(group1[name], group2[name], path + name + '/'):\n",
    "                    return False\n",
    "        return True\n",
    "\n",
    "    with h5py.File(file1, 'r') as f1, h5py.File(file2, 'r') as f2:\n",
    "        return recurse_compare(f1, f2)\n",
    "\n",
    "# Check the structure of the two files\n",
    "files_same_structure = compare_hdf5_structure_and_attributes('W_matrix.hdf5', 'triangle_ref1-P2.hdf5')\n",
    "print(\"The files have the same structure and attributes:\" if files_same_structure else \"The files do not have the same structure and attributes.\")\n"
   ]
  },
  {
   "cell_type": "code",
   "execution_count": 10,
   "metadata": {},
   "outputs": [
    {
     "name": "stdout",
     "output_type": "stream",
     "text": [
      "Attributes of /: {}\n",
      "Attributes of //ordered_edges: {}\n",
      "Attributes of //ordered_faces: {}\n",
      "Attributes of //weight_triplets: {'shape': array([54, 15])}\n",
      "Attributes of //weight_triplets/cols: {}\n",
      "Attributes of //weight_triplets/rows: {}\n",
      "Attributes of //weight_triplets/values: {}\n",
      "Attributes of /: {}\n",
      "Attributes of //ordered_edges: {}\n",
      "Attributes of //ordered_faces: {}\n",
      "Attributes of //weight_triplets: {'shape': array([14, 27])}\n",
      "Attributes of //weight_triplets/cols: {}\n",
      "Attributes of //weight_triplets/rows: {}\n",
      "Attributes of //weight_triplets/values: {}\n"
     ]
    }
   ],
   "source": [
    "import h5py\n",
    "\n",
    "def print_attributes(filename):\n",
    "    with h5py.File(filename, 'r') as file:\n",
    "        def recursive_print(name, node):\n",
    "            print(f\"Attributes of {name}: {dict(node.attrs)}\")\n",
    "            if isinstance(node, h5py.Group):\n",
    "                for child_name, child_node in node.items():\n",
    "                    recursive_print(f\"{name}/{child_name}\", child_node)\n",
    "\n",
    "        recursive_print('/', file)\n",
    "\n",
    "print_attributes('triangle_ref1-P2.hdf5')\n",
    "print_attributes('W_matrix.hdf5')"
   ]
  }
 ],
 "metadata": {
  "kernelspec": {
   "display_name": "IGA-IPC",
   "language": "python",
   "name": "python3"
  },
  "language_info": {
   "codemirror_mode": {
    "name": "ipython",
    "version": 3
   },
   "file_extension": ".py",
   "mimetype": "text/x-python",
   "name": "python",
   "nbconvert_exporter": "python",
   "pygments_lexer": "ipython3",
   "version": "3.9.19"
  }
 },
 "nbformat": 4,
 "nbformat_minor": 2
}
