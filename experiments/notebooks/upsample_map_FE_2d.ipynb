{
 "cells": [
  {
   "cell_type": "code",
   "execution_count": 1,
   "metadata": {},
   "outputs": [],
   "source": [
    "import numpy as np\n",
    "import os\n",
    "\n",
    "from utils.plot_utils import *\n",
    "from utils.mesh_utils import *\n",
    "from utils.file_utils import *\n",
    "from basis.lagrange import *"
   ]
  },
  {
   "cell_type": "code",
   "execution_count": 2,
   "metadata": {},
   "outputs": [],
   "source": [
    "# Define the reference triangle\n",
    "triangle_vertices = np.array([[0, 0], [1, 0], [0, 1]])"
   ]
  },
  {
   "cell_type": "code",
   "execution_count": 3,
   "metadata": {},
   "outputs": [
    {
     "name": "stdout",
     "output_type": "stream",
     "text": [
      "W shape: (3, 3)\n",
      "W:\n",
      "[[1 0 0]\n",
      " [0 1 0]\n",
      " [0 0 1]]\n"
     ]
    }
   ],
   "source": [
    "# Construct W\n",
    "W = np.array([linear_triangle_basis(x, y) for x, y in triangle_vertices])\n",
    "\n",
    "print(\"W shape:\", W.shape)\n",
    "print(\"W:\")\n",
    "print(W)"
   ]
  },
  {
   "cell_type": "code",
   "execution_count": 9,
   "metadata": {},
   "outputs": [],
   "source": [
    "save_folder = '2d-tri'\n",
    "save_path = os.path.join('/Users/liujunyu/Desktop/Research/UVic_NYU/IGA_IPC/code/polyfem/experiments/mesh/ipc', save_folder)\n",
    "if not os.path.exists(save_path):\n",
    "    os.makedirs(save_path)\n",
    "\n",
    "# Currently hardcode for debug\n",
    "tri_edges = [[0, 1], [1, 2], [2, 1]]\n",
    "tri_faces = [[0, 1, 2]]\n",
    "# save_mapping_to_hdf5(W, tri_edges, tri_faces, os.path.join(save_path, '2d-tri-map.hdf5'))\n",
    "path = os.path.join(save_path, '2d-tri-map.hdf5')\n",
    "save_weights(path, W, n_fem_vertices=3, vertices=triangle_vertices, edges=tri_edges, faces=tri_faces)\n",
    "                 "
   ]
  }
 ],
 "metadata": {
  "kernelspec": {
   "display_name": "IGA-IPC",
   "language": "python",
   "name": "python3"
  },
  "language_info": {
   "codemirror_mode": {
    "name": "ipython",
    "version": 3
   },
   "file_extension": ".py",
   "mimetype": "text/x-python",
   "name": "python",
   "nbconvert_exporter": "python",
   "pygments_lexer": "ipython3",
   "version": "3.9.19"
  }
 },
 "nbformat": 4,
 "nbformat_minor": 2
}
