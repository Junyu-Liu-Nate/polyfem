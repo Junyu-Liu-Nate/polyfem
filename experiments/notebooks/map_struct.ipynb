{
 "cells": [
  {
   "cell_type": "code",
   "execution_count": 2,
   "metadata": {},
   "outputs": [],
   "source": [
    "import os\n",
    "import h5py"
   ]
  },
  {
   "cell_type": "code",
   "execution_count": 4,
   "metadata": {},
   "outputs": [],
   "source": [
    "def compare_hdf5_structure(file1, file2):\n",
    "    \"\"\"\n",
    "    Compare the structure of two HDF5 files.\n",
    "    \n",
    "    Parameters:\n",
    "        file1 (str): Path to the first HDF5 file.\n",
    "        file2 (str): Path to the second HDF5 file.\n",
    "    \n",
    "    Returns:\n",
    "        bool: True if structures are identical, False otherwise.\n",
    "    \"\"\"\n",
    "    def recurse_compare(group1, group2, path='/'):\n",
    "        if sorted(group1.keys()) != sorted(group2.keys()):\n",
    "            print(f\"Structure mismatch at {path}: Different children.\")\n",
    "            return False\n",
    "        for name in group1:\n",
    "            if type(group1[name]) != type(group2[name]):\n",
    "                print(f\"Structure mismatch at {path}{name}: Different types.\")\n",
    "                return False\n",
    "            if isinstance(group1[name], h5py.Dataset):\n",
    "                if group1[name].shape != group2[name].shape or group1[name].dtype != group2[name].dtype:\n",
    "                    print(f\"Structure mismatch at {path}{name}: Different shape or dtype.\")\n",
    "                    return False\n",
    "            elif isinstance(group1[name], h5py.Group):\n",
    "                if not recurse_compare(group1[name], group2[name], path + name + '/'):\n",
    "                    return False\n",
    "        return True\n",
    "\n",
    "    with h5py.File(file1, 'r') as f1, h5py.File(file2, 'r') as f2:\n",
    "        return recurse_compare(f1, f2)"
   ]
  },
  {
   "cell_type": "code",
   "execution_count": 6,
   "metadata": {},
   "outputs": [
    {
     "name": "stdout",
     "output_type": "stream",
     "text": [
      "Structure mismatch at /ordered_edges: Different shape or dtype.\n",
      "The files do not have the same structure.\n"
     ]
    }
   ],
   "source": [
    "# Check the structure of the two files\n",
    "map_foldername = '2d-quad'\n",
    "map_folder = os.path.join('/Users/liujunyu/Desktop/Research/UVic_NYU/IGA_IPC/code/polyfem/experiments/mesh/iga-ipc', map_foldername)\n",
    "map_filename = '2d-quad-map.hdf5'\n",
    "map_filepath = os.path.join(map_folder, map_filename)\n",
    "\n",
    "reference_map_filename = 'triangle_ref1-P2.hdf5'\n",
    "reference_map_folder = '/Users/liujunyu/Desktop/Research/UVic_NYU/IGA_IPC/code/polyfem/experiments/high-order-ipc-data/weights/higher_order'\n",
    "reference_map_filepath = os.path.join(reference_map_folder, reference_map_filename)\n",
    "\n",
    "files_same_structure = compare_hdf5_structure(map_filepath, reference_map_filepath)\n",
    "print(\"The files have the same structure:\" if files_same_structure else \"The files do not have the same structure.\")"
   ]
  },
  {
   "cell_type": "code",
   "execution_count": 8,
   "metadata": {},
   "outputs": [],
   "source": [
    "import h5py\n",
    "\n",
    "def compare_hdf5_structure_and_attributes(file1, file2):\n",
    "    \"\"\"\n",
    "    Compare the structure and attributes of two HDF5 files.\n",
    "    \n",
    "    Parameters:\n",
    "        file1 (str): Path to the first HDF5 file.\n",
    "        file2 (str): Path to the second HDF5 file.\n",
    "    \n",
    "    Returns:\n",
    "        bool: True if structures and attributes are identical, False otherwise.\n",
    "    \"\"\"\n",
    "    def recurse_compare(group1, group2, path='/'):\n",
    "        if sorted(group1.keys()) != sorted(group2.keys()):\n",
    "            print(f\"Structure mismatch at {path}: Different children.\")\n",
    "            return False\n",
    "        for name in group1:\n",
    "            if type(group1[name]) != type(group2[name]):\n",
    "                print(f\"Type mismatch at {path}{name}.\")\n",
    "                return False\n",
    "            # Check attributes\n",
    "            attrs1, attrs2 = group1[name].attrs.items(), group2[name].attrs.items()\n",
    "            if sorted(attrs1) != sorted(attrs2):\n",
    "                print(f\"Attribute mismatch at {path}{name}: {attrs1} != {attrs2}\")\n",
    "                return False\n",
    "            if isinstance(group1[name], h5py.Dataset):\n",
    "                if group1[name].dtype != group2[name].dtype:\n",
    "                    print(f\"Dtype mismatch at {path}{name}.\")\n",
    "                    return False\n",
    "            elif isinstance(group1[name], h5py.Group):\n",
    "                if not recurse_compare(group1[name], group2[name], path + name + '/'):\n",
    "                    return False\n",
    "        return True\n",
    "\n",
    "    with h5py.File(file1, 'r') as f1, h5py.File(file2, 'r') as f2:\n",
    "        return recurse_compare(f1, f2)"
   ]
  },
  {
   "cell_type": "code",
   "execution_count": 9,
   "metadata": {},
   "outputs": [
    {
     "ename": "ValueError",
     "evalue": "The truth value of an array with more than one element is ambiguous. Use a.any() or a.all()",
     "output_type": "error",
     "traceback": [
      "\u001b[0;31m---------------------------------------------------------------------------\u001b[0m",
      "\u001b[0;31mValueError\u001b[0m                                Traceback (most recent call last)",
      "Cell \u001b[0;32mIn[9], line 2\u001b[0m\n\u001b[1;32m      1\u001b[0m \u001b[38;5;66;03m# Check the structure of the two files\u001b[39;00m\n\u001b[0;32m----> 2\u001b[0m files_same_structure \u001b[38;5;241m=\u001b[39m \u001b[43mcompare_hdf5_structure_and_attributes\u001b[49m\u001b[43m(\u001b[49m\u001b[43mmap_filepath\u001b[49m\u001b[43m,\u001b[49m\u001b[43m \u001b[49m\u001b[43mreference_map_filepath\u001b[49m\u001b[43m)\u001b[49m\n\u001b[1;32m      3\u001b[0m \u001b[38;5;28mprint\u001b[39m(\u001b[38;5;124m\"\u001b[39m\u001b[38;5;124mThe files have the same structure and attributes:\u001b[39m\u001b[38;5;124m\"\u001b[39m \u001b[38;5;28;01mif\u001b[39;00m files_same_structure \u001b[38;5;28;01melse\u001b[39;00m \u001b[38;5;124m\"\u001b[39m\u001b[38;5;124mThe files do not have the same structure and attributes.\u001b[39m\u001b[38;5;124m\"\u001b[39m)\n",
      "Cell \u001b[0;32mIn[8], line 37\u001b[0m, in \u001b[0;36mcompare_hdf5_structure_and_attributes\u001b[0;34m(file1, file2)\u001b[0m\n\u001b[1;32m     34\u001b[0m     \u001b[38;5;28;01mreturn\u001b[39;00m \u001b[38;5;28;01mTrue\u001b[39;00m\n\u001b[1;32m     36\u001b[0m \u001b[38;5;28;01mwith\u001b[39;00m h5py\u001b[38;5;241m.\u001b[39mFile(file1, \u001b[38;5;124m'\u001b[39m\u001b[38;5;124mr\u001b[39m\u001b[38;5;124m'\u001b[39m) \u001b[38;5;28;01mas\u001b[39;00m f1, h5py\u001b[38;5;241m.\u001b[39mFile(file2, \u001b[38;5;124m'\u001b[39m\u001b[38;5;124mr\u001b[39m\u001b[38;5;124m'\u001b[39m) \u001b[38;5;28;01mas\u001b[39;00m f2:\n\u001b[0;32m---> 37\u001b[0m     \u001b[38;5;28;01mreturn\u001b[39;00m \u001b[43mrecurse_compare\u001b[49m\u001b[43m(\u001b[49m\u001b[43mf1\u001b[49m\u001b[43m,\u001b[49m\u001b[43m \u001b[49m\u001b[43mf2\u001b[49m\u001b[43m)\u001b[49m\n",
      "Cell \u001b[0;32mIn[8], line 24\u001b[0m, in \u001b[0;36mcompare_hdf5_structure_and_attributes.<locals>.recurse_compare\u001b[0;34m(group1, group2, path)\u001b[0m\n\u001b[1;32m     22\u001b[0m \u001b[38;5;66;03m# Check attributes\u001b[39;00m\n\u001b[1;32m     23\u001b[0m attrs1, attrs2 \u001b[38;5;241m=\u001b[39m group1[name]\u001b[38;5;241m.\u001b[39mattrs\u001b[38;5;241m.\u001b[39mitems(), group2[name]\u001b[38;5;241m.\u001b[39mattrs\u001b[38;5;241m.\u001b[39mitems()\n\u001b[0;32m---> 24\u001b[0m \u001b[38;5;28;01mif\u001b[39;00m \u001b[38;5;28;43msorted\u001b[39;49m\u001b[43m(\u001b[49m\u001b[43mattrs1\u001b[49m\u001b[43m)\u001b[49m\u001b[43m \u001b[49m\u001b[38;5;241;43m!=\u001b[39;49m\u001b[43m \u001b[49m\u001b[38;5;28;43msorted\u001b[39;49m\u001b[43m(\u001b[49m\u001b[43mattrs2\u001b[49m\u001b[43m)\u001b[49m:\n\u001b[1;32m     25\u001b[0m     \u001b[38;5;28mprint\u001b[39m(\u001b[38;5;124mf\u001b[39m\u001b[38;5;124m\"\u001b[39m\u001b[38;5;124mAttribute mismatch at \u001b[39m\u001b[38;5;132;01m{\u001b[39;00mpath\u001b[38;5;132;01m}\u001b[39;00m\u001b[38;5;132;01m{\u001b[39;00mname\u001b[38;5;132;01m}\u001b[39;00m\u001b[38;5;124m: \u001b[39m\u001b[38;5;132;01m{\u001b[39;00mattrs1\u001b[38;5;132;01m}\u001b[39;00m\u001b[38;5;124m != \u001b[39m\u001b[38;5;132;01m{\u001b[39;00mattrs2\u001b[38;5;132;01m}\u001b[39;00m\u001b[38;5;124m\"\u001b[39m)\n\u001b[1;32m     26\u001b[0m     \u001b[38;5;28;01mreturn\u001b[39;00m \u001b[38;5;28;01mFalse\u001b[39;00m\n",
      "\u001b[0;31mValueError\u001b[0m: The truth value of an array with more than one element is ambiguous. Use a.any() or a.all()"
     ]
    }
   ],
   "source": [
    "# Check the structure of the two files\n",
    "files_same_structure = compare_hdf5_structure_and_attributes(map_filepath, reference_map_filepath)\n",
    "print(\"The files have the same structure and attributes:\" if files_same_structure else \"The files do not have the same structure and attributes.\")"
   ]
  },
  {
   "cell_type": "code",
   "execution_count": 10,
   "metadata": {},
   "outputs": [
    {
     "name": "stdout",
     "output_type": "stream",
     "text": [
      "Attributes of /: {}\n",
      "Attributes of //ordered_edges: {}\n",
      "Attributes of //ordered_faces: {}\n",
      "Attributes of //weight_triplets: {'shape': array([4, 4])}\n",
      "Attributes of //weight_triplets/cols: {}\n",
      "Attributes of //weight_triplets/rows: {}\n",
      "Attributes of //weight_triplets/values: {}\n",
      "Attributes of /: {}\n",
      "Attributes of //ordered_edges: {}\n",
      "Attributes of //ordered_faces: {}\n",
      "Attributes of //weight_triplets: {'shape': array([54, 15])}\n",
      "Attributes of //weight_triplets/cols: {}\n",
      "Attributes of //weight_triplets/rows: {}\n",
      "Attributes of //weight_triplets/values: {}\n"
     ]
    }
   ],
   "source": [
    "import h5py\n",
    "\n",
    "def print_attributes(filename):\n",
    "    with h5py.File(filename, 'r') as file:\n",
    "        def recursive_print(name, node):\n",
    "            print(f\"Attributes of {name}: {dict(node.attrs)}\")\n",
    "            if isinstance(node, h5py.Group):\n",
    "                for child_name, child_node in node.items():\n",
    "                    recursive_print(f\"{name}/{child_name}\", child_node)\n",
    "\n",
    "        recursive_print('/', file)\n",
    "\n",
    "print_attributes(map_filepath)\n",
    "print_attributes(reference_map_filepath)"
   ]
  },
  {
   "cell_type": "code",
   "execution_count": null,
   "metadata": {},
   "outputs": [],
   "source": []
  },
  {
   "cell_type": "code",
   "execution_count": 7,
   "metadata": {},
   "outputs": [
    {
     "ename": "TypeError",
     "evalue": "Can't broadcast (9, 2) -> (261, 2)",
     "output_type": "error",
     "traceback": [
      "\u001b[0;31m---------------------------------------------------------------------------\u001b[0m",
      "\u001b[0;31mTypeError\u001b[0m                                 Traceback (most recent call last)",
      "Cell \u001b[0;32mIn[7], line 34\u001b[0m\n\u001b[1;32m     31\u001b[0m         adjust_group(ref, adj)\n\u001b[1;32m     33\u001b[0m \u001b[38;5;66;03m# Adjust '2d-quad-map.hdf5' to match 'triangle_ref1-P2.hdf5'\u001b[39;00m\n\u001b[0;32m---> 34\u001b[0m \u001b[43madjust_hdf5_to_match\u001b[49m\u001b[43m(\u001b[49m\u001b[38;5;124;43m'\u001b[39;49m\u001b[38;5;124;43m2d-quad-map.hdf5\u001b[39;49m\u001b[38;5;124;43m'\u001b[39;49m\u001b[43m,\u001b[49m\u001b[43m \u001b[49m\u001b[38;5;124;43m'\u001b[39;49m\u001b[38;5;124;43mtriangle_ref1-P2.hdf5\u001b[39;49m\u001b[38;5;124;43m'\u001b[39;49m\u001b[43m)\u001b[49m\n",
      "Cell \u001b[0;32mIn[7], line 31\u001b[0m, in \u001b[0;36madjust_hdf5_to_match\u001b[0;34m(file_to_adjust, reference_file)\u001b[0m\n\u001b[1;32m     28\u001b[0m                 adj_group\u001b[38;5;241m.\u001b[39mcreate_group(name)\n\u001b[1;32m     29\u001b[0m             adjust_group(ref_dataset, adj_group[name])\n\u001b[0;32m---> 31\u001b[0m \u001b[43madjust_group\u001b[49m\u001b[43m(\u001b[49m\u001b[43mref\u001b[49m\u001b[43m,\u001b[49m\u001b[43m \u001b[49m\u001b[43madj\u001b[49m\u001b[43m)\u001b[49m\n",
      "Cell \u001b[0;32mIn[7], line 17\u001b[0m, in \u001b[0;36madjust_hdf5_to_match.<locals>.adjust_group\u001b[0;34m(ref_group, adj_group)\u001b[0m\n\u001b[1;32m     15\u001b[0m \u001b[38;5;66;03m# If dataset exists in adj, modify it, otherwise create it\u001b[39;00m\n\u001b[1;32m     16\u001b[0m \u001b[38;5;28;01mif\u001b[39;00m name \u001b[38;5;129;01min\u001b[39;00m adj_group:\n\u001b[0;32m---> 17\u001b[0m     \u001b[43madj_group\u001b[49m\u001b[43m[\u001b[49m\u001b[43mname\u001b[49m\u001b[43m]\u001b[49m\u001b[43m[\u001b[49m\u001b[43m(\u001b[49m\u001b[43m)\u001b[49m\u001b[43m]\u001b[49m \u001b[38;5;241m=\u001b[39m ref_data\u001b[38;5;241m.\u001b[39mastype(ref_dtype)\n\u001b[1;32m     18\u001b[0m \u001b[38;5;28;01melse\u001b[39;00m:\n\u001b[1;32m     19\u001b[0m     adj_group\u001b[38;5;241m.\u001b[39mcreate_dataset(name, data\u001b[38;5;241m=\u001b[39mref_data, dtype\u001b[38;5;241m=\u001b[39mref_dtype)\n",
      "File \u001b[0;32mh5py/_objects.pyx:54\u001b[0m, in \u001b[0;36mh5py._objects.with_phil.wrapper\u001b[0;34m()\u001b[0m\n",
      "File \u001b[0;32mh5py/_objects.pyx:55\u001b[0m, in \u001b[0;36mh5py._objects.with_phil.wrapper\u001b[0;34m()\u001b[0m\n",
      "File \u001b[0;32m~/miniforge3/envs/IGA-IPC/lib/python3.9/site-packages/h5py/_hl/dataset.py:997\u001b[0m, in \u001b[0;36mDataset.__setitem__\u001b[0;34m(self, args, val)\u001b[0m\n\u001b[1;32m    994\u001b[0m     mshape \u001b[38;5;241m=\u001b[39m val\u001b[38;5;241m.\u001b[39mshape\n\u001b[1;32m    996\u001b[0m \u001b[38;5;66;03m# Perform the write, with broadcasting\u001b[39;00m\n\u001b[0;32m--> 997\u001b[0m mspace \u001b[38;5;241m=\u001b[39m h5s\u001b[38;5;241m.\u001b[39mcreate_simple(\u001b[43mselection\u001b[49m\u001b[38;5;241;43m.\u001b[39;49m\u001b[43mexpand_shape\u001b[49m\u001b[43m(\u001b[49m\u001b[43mmshape\u001b[49m\u001b[43m)\u001b[49m)\n\u001b[1;32m    998\u001b[0m \u001b[38;5;28;01mfor\u001b[39;00m fspace \u001b[38;5;129;01min\u001b[39;00m selection\u001b[38;5;241m.\u001b[39mbroadcast(mshape):\n\u001b[1;32m    999\u001b[0m     \u001b[38;5;28mself\u001b[39m\u001b[38;5;241m.\u001b[39mid\u001b[38;5;241m.\u001b[39mwrite(mspace, fspace, val, mtype, dxpl\u001b[38;5;241m=\u001b[39m\u001b[38;5;28mself\u001b[39m\u001b[38;5;241m.\u001b[39m_dxpl)\n",
      "File \u001b[0;32m~/miniforge3/envs/IGA-IPC/lib/python3.9/site-packages/h5py/_hl/selections.py:264\u001b[0m, in \u001b[0;36mSimpleSelection.expand_shape\u001b[0;34m(self, source_shape)\u001b[0m\n\u001b[1;32m    262\u001b[0m             eshape\u001b[38;5;241m.\u001b[39mappend(t)\n\u001b[1;32m    263\u001b[0m         \u001b[38;5;28;01melse\u001b[39;00m:\n\u001b[0;32m--> 264\u001b[0m             \u001b[38;5;28;01mraise\u001b[39;00m \u001b[38;5;167;01mTypeError\u001b[39;00m(\u001b[38;5;124m\"\u001b[39m\u001b[38;5;124mCan\u001b[39m\u001b[38;5;124m'\u001b[39m\u001b[38;5;124mt broadcast \u001b[39m\u001b[38;5;132;01m%s\u001b[39;00m\u001b[38;5;124m -> \u001b[39m\u001b[38;5;132;01m%s\u001b[39;00m\u001b[38;5;124m\"\u001b[39m \u001b[38;5;241m%\u001b[39m (source_shape, \u001b[38;5;28mself\u001b[39m\u001b[38;5;241m.\u001b[39marray_shape))  \u001b[38;5;66;03m# array shape\u001b[39;00m\n\u001b[1;32m    266\u001b[0m \u001b[38;5;28;01mif\u001b[39;00m \u001b[38;5;28many\u001b[39m([n \u001b[38;5;241m>\u001b[39m \u001b[38;5;241m1\u001b[39m \u001b[38;5;28;01mfor\u001b[39;00m n \u001b[38;5;129;01min\u001b[39;00m remaining_src_dims]):\n\u001b[1;32m    267\u001b[0m     \u001b[38;5;66;03m# All dimensions from target_shape should either have been popped\u001b[39;00m\n\u001b[1;32m    268\u001b[0m     \u001b[38;5;66;03m# to match the selection shape, or be 1.\u001b[39;00m\n\u001b[1;32m    269\u001b[0m     \u001b[38;5;28;01mraise\u001b[39;00m \u001b[38;5;167;01mTypeError\u001b[39;00m(\u001b[38;5;124m\"\u001b[39m\u001b[38;5;124mCan\u001b[39m\u001b[38;5;124m'\u001b[39m\u001b[38;5;124mt broadcast \u001b[39m\u001b[38;5;132;01m%s\u001b[39;00m\u001b[38;5;124m -> \u001b[39m\u001b[38;5;132;01m%s\u001b[39;00m\u001b[38;5;124m\"\u001b[39m \u001b[38;5;241m%\u001b[39m (source_shape, \u001b[38;5;28mself\u001b[39m\u001b[38;5;241m.\u001b[39marray_shape))  \u001b[38;5;66;03m# array shape\u001b[39;00m\n",
      "\u001b[0;31mTypeError\u001b[0m: Can't broadcast (9, 2) -> (261, 2)"
     ]
    }
   ],
   "source": [
    "import h5py\n",
    "import numpy as np\n",
    "\n",
    "def adjust_hdf5_to_match(file_to_adjust, reference_file):\n",
    "    with h5py.File(reference_file, 'r') as ref, h5py.File(file_to_adjust, 'r+') as adj:\n",
    "        # Iterate through all items in the reference file and adjust the target file accordingly\n",
    "        def adjust_group(ref_group, adj_group):\n",
    "            # Adjust datasets\n",
    "            for name, ref_dataset in ref_group.items():\n",
    "                if isinstance(ref_dataset, h5py.Dataset):\n",
    "                    # Read reference data and dtype\n",
    "                    ref_data = ref_dataset[()]\n",
    "                    ref_dtype = ref_dataset.dtype\n",
    "\n",
    "                    # If dataset exists in adj, modify it, otherwise create it\n",
    "                    if name in adj_group:\n",
    "                        adj_group[name][()] = ref_data.astype(ref_dtype)\n",
    "                    else:\n",
    "                        adj_group.create_dataset(name, data=ref_data, dtype=ref_dtype)\n",
    "\n",
    "                    # Adjust attributes to match\n",
    "                    for attr_name, attr_value in ref_dataset.attrs.items():\n",
    "                        adj_group[name].attrs[attr_name] = np.array(attr_value, dtype=type(attr_value))\n",
    "\n",
    "                elif isinstance(ref_dataset, h5py.Group):\n",
    "                    # Recursively adjust groups\n",
    "                    if name not in adj_group:\n",
    "                        adj_group.create_group(name)\n",
    "                    adjust_group(ref_dataset, adj_group[name])\n",
    "\n",
    "        adjust_group(ref, adj)\n",
    "\n",
    "# Adjust '2d-quad-map.hdf5' to match 'triangle_ref1-P2.hdf5'\n",
    "adjust_hdf5_to_match('2d-quad-map.hdf5', 'triangle_ref1-P2.hdf5')"
   ]
  }
 ],
 "metadata": {
  "kernelspec": {
   "display_name": "IGA-IPC",
   "language": "python",
   "name": "python3"
  },
  "language_info": {
   "codemirror_mode": {
    "name": "ipython",
    "version": 3
   },
   "file_extension": ".py",
   "mimetype": "text/x-python",
   "name": "python",
   "nbconvert_exporter": "python",
   "pygments_lexer": "ipython3",
   "version": "3.9.19"
  }
 },
 "nbformat": 4,
 "nbformat_minor": 2
}
